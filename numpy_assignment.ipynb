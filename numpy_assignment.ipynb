{
 "cells": [
  {
   "cell_type": "markdown",
   "metadata": {},
   "source": [
    "# NUMPY ASSIGNMENT ( NITISH KUMAR PILLA )"
   ]
  },
  {
   "cell_type": "code",
   "execution_count": 12,
   "metadata": {},
   "outputs": [
    {
     "name": "stdout",
     "output_type": "stream",
     "text": [
      "[[  1   1   1   1   1]\n",
      " [ 16   8   4   2   1]\n",
      " [ 81  27   9   3   1]\n",
      " [256  64  16   4   1]\n",
      " [625 125  25   5   1]]\n",
      "\n",
      "\n",
      "[[   1    2    4]\n",
      " [   1    5   25]\n",
      " [   1    4   16]\n",
      " [   1   77 5929]\n",
      " [   1    8   64]\n",
      " [   1    2    4]]\n"
     ]
    }
   ],
   "source": [
    "#  Alexandre Theophile Vandermonde\n",
    "\n",
    "import numpy as np\n",
    "def vander(ip,n,increasing=False):\n",
    "    if increasing == False:\n",
    "        vec=[]\n",
    "        for x in ip:\n",
    "            for i in range(n):\n",
    "                vec.append(x**(n-1-i))\n",
    "    else:\n",
    "        vec=[]\n",
    "        for x in ip:\n",
    "            for i in range(n):\n",
    "                vec.append(x**i)\n",
    "    return np.array(vec).reshape(len(ip),n)\n",
    "\n",
    "print(vander([1,2,3,4,5],5,increasing=False))\n",
    "print('\\n')\n",
    "print(vander([2,5,4,77,8,2],3,increasing=True))\n",
    "        "
   ]
  },
  {
   "cell_type": "code",
   "execution_count": 24,
   "metadata": {},
   "outputs": [
    {
     "data": {
      "text/plain": [
       "array([  5.   ,   4.667,   5.667,   6.667,   9.667,  28.667,  49.333,\n",
       "        72.667,  84.   ,  93.333, 116.333])"
      ]
     },
     "execution_count": 24,
     "metadata": {},
     "output_type": "execute_result"
    }
   ],
   "source": [
    "#  moving average in an array over a window\n",
    "\n",
    "def moving_avg(x,k):\n",
    "    ans=[]\n",
    "    for i in range(len(x)-k+1):\n",
    "        ans.append((sum(x[i:k+i])/k))\n",
    "    return np.array(ans).round(3)\n",
    "\n",
    "moving_avg([3, 5, 7, 2, 8, 10, 11, 65, 72, 81, 99, 100, 150],3)"
   ]
  }
 ],
 "metadata": {
  "kernelspec": {
   "display_name": "Python 3",
   "language": "python",
   "name": "python3"
  },
  "language_info": {
   "codemirror_mode": {
    "name": "ipython",
    "version": 3
   },
   "file_extension": ".py",
   "mimetype": "text/x-python",
   "name": "python",
   "nbconvert_exporter": "python",
   "pygments_lexer": "ipython3",
   "version": "3.8.3"
  }
 },
 "nbformat": 4,
 "nbformat_minor": 4
}
